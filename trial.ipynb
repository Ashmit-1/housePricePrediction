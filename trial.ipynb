{
 "cells": [
  {
   "cell_type": "code",
   "execution_count": 1,
   "metadata": {},
   "outputs": [],
   "source": [
    "import joblib\n",
    "import pandas as pd"
   ]
  },
  {
   "cell_type": "code",
   "execution_count": 3,
   "metadata": {},
   "outputs": [],
   "source": [
    "myModel = joblib.load(\"final_model_random_forest.pkl\")\n",
    "df = pd.read_csv(\"housing.csv\")\n",
    "new_full_pipeline = joblib.load(\"full_pipeline.joblib\")"
   ]
  },
  {
   "cell_type": "code",
   "execution_count": 4,
   "metadata": {},
   "outputs": [],
   "source": [
    "def predict_price(latitude, longitude, age, population, households, income, proximity_to_ocean):\n",
    "    total_rooms_median = df[\"total_rooms\"].median()\n",
    "    total_bed_rooms_median = df[\"total_bedrooms\"].median()\n",
    "    data = {\n",
    "        \"longitude\":[longitude],\n",
    "        \"latitude\":[latitude],\n",
    "        \"housing_median_age\":[age],\n",
    "        \"total_rooms\":[total_rooms_median],\n",
    "        \"total_bedrooms\":[total_bed_rooms_median],\n",
    "        \"population\":[population],\n",
    "        \"households\":[households],\n",
    "        \"median_income\":[income],\n",
    "        \"ocean_proximity\":[proximity_to_ocean]\n",
    "    }\n",
    "    user_data = pd.DataFrame(data)\n",
    "    user_data[\"median_income\"] = user_data[\"median_income\"]/1000\n",
    "    user_data[\"rooms_per_household\"] = user_data[\"total_rooms\"] /user_data[\"households\"]\n",
    "    user_data[\"population_per_household\"] = user_data[\"population\"] /user_data[\"households\"]\n",
    "    user_data[\"bedrooms_per_room\"] = user_data[\"total_bedrooms\"] /user_data[\"total_rooms\"]\n",
    "    prepared_data = new_full_pipeline.transform(user_data)\n",
    "    modelPrediction = myModel.predict(prepared_data)\n",
    "    return modelPrediction"
   ]
  },
  {
   "cell_type": "code",
   "execution_count": 6,
   "metadata": {},
   "outputs": [
    {
     "name": "stdout",
     "output_type": "stream",
     "text": [
      "440492.3875\n"
     ]
    }
   ],
   "source": [
    "print(predict_price(latitude=37.85, longitude=-122.25, age=52, households=177, income=8000, population=400, proximity_to_ocean=\"NEAR BAY\")[0])"
   ]
  }
 ],
 "metadata": {
  "kernelspec": {
   "display_name": "Python 3",
   "language": "python",
   "name": "python3"
  },
  "language_info": {
   "codemirror_mode": {
    "name": "ipython",
    "version": 3
   },
   "file_extension": ".py",
   "mimetype": "text/x-python",
   "name": "python",
   "nbconvert_exporter": "python",
   "pygments_lexer": "ipython3",
   "version": "3.12.3"
  }
 },
 "nbformat": 4,
 "nbformat_minor": 2
}
